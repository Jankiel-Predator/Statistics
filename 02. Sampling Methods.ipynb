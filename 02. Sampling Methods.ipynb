{
 "cells": [
  {
   "cell_type": "markdown",
   "metadata": {},
   "source": [
    "# Sampling Methods - Titanic Dataset\n",
    "\n",
    "### Objective\n",
    "The purpose of this exercise is to apply sampling methods to and draw conclusions about the representativeness of the obtained samples using variables under investiagtion.\n",
    "\n",
    "## 1. Characteristics of selected sampling methods\n",
    "\n",
    "#### 1. Simple Random Sampling\n",
    "Simple random sampling involves selecting individuals randomly from the population, where each individual has an equal chance of being selected. Use simple random sampling when the population is homogeneous and you want each member to have an equal chance of being included. It's straightforward and suitable when there are no known differences or groupings within the population.\n",
    "\n",
    "### 2. Stratified Random Sampling\n",
    "Stratified random sampling divides the population into homogeneous subgroups (strata) based on certain characteristics (e.g., age groups, socio-economic status) and then samples randomly from each subgroup. This ensures that each subgroup is represented proportionally in the sample. Use stratified random sampling when the population can be divided into distinct groups with different characteristics, and you want to ensure representation from each group in your sample. It helps in reducing variability and increasing precision for subgroup analyses.\n",
    "\n",
    "### 3. Cluster Sampling\n",
    "Cluster sampling involves dividing the population into clusters (e.g., geographical areas, schools, households) and then randomly selecting entire clusters to be included in the sample. Unlike stratified sampling, where individuals are randomly sampled from each stratum, cluster sampling involves sampling entire groups or clusters. Use cluster sampling when the population is large and spread out over a wide geographic area or when it's easier to access groups or clusters rather than individual members. It can be more cost-effective and logistically feasible compared to other methods, especially in field surveys.\n",
    "\n",
    "### 4. Systematic Sampling\n",
    "Systematic sampling selects individuals from a population at regular intervals, such as every nth individual after a random starting point. It involves choosing a random starting point and then selecting every kth element from the population. Use systematic sampling when the population is large and ordered in some manner (e.g., alphabetically, chronologically). It provides a simple and efficient way to sample from a large population without needing a complete list of all individuals beforehand.\n",
    "\n",
    "## 2. The variables under investigation\n",
    "- Percentage of:\n",
    "    - Passengers in each class\n",
    "    - Survivors and deceased\n",
    "    - Men and women separately\n",
    "- The mean value of columns:\n",
    "    - Age\n",
    "    - Fare\n",
    "\n",
    "**For all the sampling methods, the sample size is 50.**\n",
    " \n",
    "## 3. Conclusions on Representativeness\n",
    "\n",
    "#### Simple Random Sampling\n",
    "- **Class**: Overrepresented third class, underrepresented second class.\n",
    "- **Survival**: Close to population percentages.\n",
    "- **Gender**: Close to population percentages.\n",
    "- **Age and Fare**: Lower mean age and fare than population.\n",
    "\n",
    "**Simple Random Sampling** can sometimes lead to over- or under-representation in smaller samples.\n",
    "\n",
    "---\n",
    "\n",
    "#### Stratified Random Sampling\n",
    "- **Class**: Closely matches population distribution (a bit of overestimation of Second Class)\n",
    "- **Survival**: Higher survival rate.\n",
    "- **Gender**: Perfect gender balance (50-50).\n",
    "- **Age and Fare**: Mean values closer to population but slightly lower.\n",
    "\n",
    "**Stratified Random Sampling** provides the best match for class distribution and gender balance but slightly overestimates survival rates.\n",
    "\n",
    "---\n",
    "\n",
    "#### Cluster Sampling\n",
    "- **Class**: Closely matches population distribution.\n",
    "- **Survival**: Lower survival rate, higher deceased rate.\n",
    "- **Gender**: Slightly more balanced than population.\n",
    "- **Age and Fare**: Mean values very close to population.\n",
    "\n",
    "**Cluster Sampling** provides good representativeness for all variables.\n",
    "\n",
    "---\n",
    "\n",
    "#### Systematic Sampling\n",
    "- **Class**: Lowered Second Class representation.\n",
    "- **Survival**: Close to population percentages.\n",
    "- **Gender**: Very close to population percentages.\n",
    "- **Age and Fare**: Mean values rather close to population.\n",
    "\n",
    "**Systematic Sampling** also provides good representativeness for all variables, with mean values very close to population means.\n",
    "\n",
    "---\n",
    "\n",
    "Each sampling method has its strengths, but stratified and cluster sampling tend to be more representative of the population characteristics in this case.\n",
    "\n",
    "## 4. Comparison table\n",
    "\n",
    "| How exactly was the sample selected? | Percentage of each class  | Percentage of survivors and deceased  | Percentage of men and women  | Mean of age  | Mean of fare  |\n",
    "|--------------------------------------|---------------------------|----------------------------------------|------------------------------|--------------|---------------|\n",
    "| **Population**                       | Third: 55.11%<br>First: 24.24%<br>Second: 20.65%  | Survivors: 38.38%<br>Deceased: 61.62%  | Male: 64.76%<br>Female: 35.24%  | 29.70  | 32.20  |\n",
    "| **Simple Random Sampling**           | Third: 64.0%<br>First: 24.0%<br>Second: 12.0%  | Survivors: 36.0%<br>Deceased: 64.0%  | Male: 68.0%<br>Female: 32.0%  | 26.13  | 22.00  |\n",
    "| **Stratified Sampling** (strata = male and female groups)              | Third: 52.0%<br>First: 24.0%<br>Second: 24.0%  | Survivors: 46.0%<br>Deceased: 54.0%  | Male: 50.0%<br>Female: 50.0%  | 29.33  | 31.57  |\n",
    "| **Cluster Sampling** (passenger IDs)                | Third: 54.0%<br>First: 22.0%<br>Second: 24.0%  | Survivors: 32.0%<br>Deceased: 68.0%  | Male: 58.0%<br>Female: 42.0%  | 28.15  | 32.60  |\n",
    "| **Systematic Sampling**              | Third: 60.0%<br>First: 24.0%<br>Second: 16.0%  | Survivors: 34.0%<br>Deceased: 66.0%  | Male: 64.0%<br>Female: 36.0%  | 28.16  | 28.11  |"
   ]
  },
  {
   "cell_type": "code",
   "execution_count": 608,
   "metadata": {},
   "outputs": [],
   "source": [
    "import seaborn as sns\n",
    "import pandas as pd\n",
    "import random"
   ]
  },
  {
   "cell_type": "code",
   "execution_count": 609,
   "metadata": {},
   "outputs": [],
   "source": [
    "### Load the Titanic dataset\n",
    "\n",
    "titanic = sns.load_dataset(\"titanic\")"
   ]
  },
  {
   "cell_type": "markdown",
   "metadata": {},
   "source": [
    "# Population"
   ]
  },
  {
   "cell_type": "code",
   "execution_count": 610,
   "metadata": {},
   "outputs": [],
   "source": [
    "### Variables for the entire population\n",
    "\n",
    "population_size = len(titanic)\n",
    "\n",
    "percentage_by_class = pd.DataFrame(titanic['class'].value_counts() / population_size * 100).rename(columns={'count': '%'})\n",
    "\n",
    "survivors_percentage = titanic['survived'].sum() / population_size * 100\n",
    "deceased_percentage = 100 - survivors_percentage\n",
    "percentage_survivors_deceased = pd.DataFrame({\"Survivors\": [survivors_percentage],\n",
    "                                              \"Deceased\": [deceased_percentage]}).T.rename(columns={0: '%'})\n",
    "\n",
    "percentage_gender = pd.DataFrame(titanic['sex'].value_counts() / population_size * 100).rename(columns={'count': '%'})\n",
    "\n",
    "mean_age = titanic['age'].mean()\n",
    "mean_fare = titanic['fare'].mean()"
   ]
  },
  {
   "cell_type": "code",
   "execution_count": 611,
   "metadata": {},
   "outputs": [
    {
     "name": "stdout",
     "output_type": "stream",
     "text": [
      "Percentage of passengers in each class in the entire population:\n"
     ]
    },
    {
     "data": {
      "text/html": [
       "<div>\n",
       "<style scoped>\n",
       "    .dataframe tbody tr th:only-of-type {\n",
       "        vertical-align: middle;\n",
       "    }\n",
       "\n",
       "    .dataframe tbody tr th {\n",
       "        vertical-align: top;\n",
       "    }\n",
       "\n",
       "    .dataframe thead th {\n",
       "        text-align: right;\n",
       "    }\n",
       "</style>\n",
       "<table border=\"1\" class=\"dataframe\">\n",
       "  <thead>\n",
       "    <tr style=\"text-align: right;\">\n",
       "      <th></th>\n",
       "      <th>%</th>\n",
       "    </tr>\n",
       "    <tr>\n",
       "      <th>class</th>\n",
       "      <th></th>\n",
       "    </tr>\n",
       "  </thead>\n",
       "  <tbody>\n",
       "    <tr>\n",
       "      <th>Third</th>\n",
       "      <td>55.106622</td>\n",
       "    </tr>\n",
       "    <tr>\n",
       "      <th>First</th>\n",
       "      <td>24.242424</td>\n",
       "    </tr>\n",
       "    <tr>\n",
       "      <th>Second</th>\n",
       "      <td>20.650954</td>\n",
       "    </tr>\n",
       "  </tbody>\n",
       "</table>\n",
       "</div>"
      ],
      "text/plain": [
       "                %\n",
       "class            \n",
       "Third   55.106622\n",
       "First   24.242424\n",
       "Second  20.650954"
      ]
     },
     "execution_count": 611,
     "metadata": {},
     "output_type": "execute_result"
    }
   ],
   "source": [
    "print(\"Percentage of passengers in each class in the entire population:\")\n",
    "percentage_by_class"
   ]
  },
  {
   "cell_type": "code",
   "execution_count": 612,
   "metadata": {},
   "outputs": [
    {
     "name": "stdout",
     "output_type": "stream",
     "text": [
      "Percentage of survivors and deceased in the entire population:\n"
     ]
    },
    {
     "data": {
      "text/html": [
       "<div>\n",
       "<style scoped>\n",
       "    .dataframe tbody tr th:only-of-type {\n",
       "        vertical-align: middle;\n",
       "    }\n",
       "\n",
       "    .dataframe tbody tr th {\n",
       "        vertical-align: top;\n",
       "    }\n",
       "\n",
       "    .dataframe thead th {\n",
       "        text-align: right;\n",
       "    }\n",
       "</style>\n",
       "<table border=\"1\" class=\"dataframe\">\n",
       "  <thead>\n",
       "    <tr style=\"text-align: right;\">\n",
       "      <th></th>\n",
       "      <th>%</th>\n",
       "    </tr>\n",
       "  </thead>\n",
       "  <tbody>\n",
       "    <tr>\n",
       "      <th>Survivors</th>\n",
       "      <td>38.383838</td>\n",
       "    </tr>\n",
       "    <tr>\n",
       "      <th>Deceased</th>\n",
       "      <td>61.616162</td>\n",
       "    </tr>\n",
       "  </tbody>\n",
       "</table>\n",
       "</div>"
      ],
      "text/plain": [
       "                   %\n",
       "Survivors  38.383838\n",
       "Deceased   61.616162"
      ]
     },
     "execution_count": 612,
     "metadata": {},
     "output_type": "execute_result"
    }
   ],
   "source": [
    "print(\"Percentage of survivors and deceased in the entire population:\")\n",
    "percentage_survivors_deceased"
   ]
  },
  {
   "cell_type": "code",
   "execution_count": 613,
   "metadata": {},
   "outputs": [
    {
     "name": "stdout",
     "output_type": "stream",
     "text": [
      "Percentage of male and female in the entire population:\n"
     ]
    },
    {
     "data": {
      "text/html": [
       "<div>\n",
       "<style scoped>\n",
       "    .dataframe tbody tr th:only-of-type {\n",
       "        vertical-align: middle;\n",
       "    }\n",
       "\n",
       "    .dataframe tbody tr th {\n",
       "        vertical-align: top;\n",
       "    }\n",
       "\n",
       "    .dataframe thead th {\n",
       "        text-align: right;\n",
       "    }\n",
       "</style>\n",
       "<table border=\"1\" class=\"dataframe\">\n",
       "  <thead>\n",
       "    <tr style=\"text-align: right;\">\n",
       "      <th></th>\n",
       "      <th>%</th>\n",
       "    </tr>\n",
       "    <tr>\n",
       "      <th>sex</th>\n",
       "      <th></th>\n",
       "    </tr>\n",
       "  </thead>\n",
       "  <tbody>\n",
       "    <tr>\n",
       "      <th>male</th>\n",
       "      <td>64.758698</td>\n",
       "    </tr>\n",
       "    <tr>\n",
       "      <th>female</th>\n",
       "      <td>35.241302</td>\n",
       "    </tr>\n",
       "  </tbody>\n",
       "</table>\n",
       "</div>"
      ],
      "text/plain": [
       "                %\n",
       "sex              \n",
       "male    64.758698\n",
       "female  35.241302"
      ]
     },
     "execution_count": 613,
     "metadata": {},
     "output_type": "execute_result"
    }
   ],
   "source": [
    "print(\"Percentage of male and female in the entire population:\")\n",
    "percentage_gender"
   ]
  },
  {
   "cell_type": "code",
   "execution_count": 614,
   "metadata": {},
   "outputs": [
    {
     "name": "stdout",
     "output_type": "stream",
     "text": [
      "The mean value of:\n",
      "      - age: 29.69911764705882\n",
      "      - fare: 32.204207968574636\n",
      "in the entire population\n"
     ]
    }
   ],
   "source": [
    "print(f\"\"\"The mean value of:\n",
    "      - age: {mean_age}\n",
    "      - fare: {mean_fare}\n",
    "in the entire population\"\"\")"
   ]
  },
  {
   "cell_type": "markdown",
   "metadata": {},
   "source": [
    "# Simple Random Sampling"
   ]
  },
  {
   "cell_type": "code",
   "execution_count": 615,
   "metadata": {},
   "outputs": [],
   "source": [
    "### Variables for simple random sampling\n",
    "\n",
    "sample_size = 50\n",
    "simple_random_sample = titanic.sample(sample_size, random_state=42)\n",
    "\n",
    "sample_percentage_by_class = pd.DataFrame(simple_random_sample['class'].value_counts() / sample_size * 100).rename(columns={'count': '%'})\n",
    "\n",
    "sample_percentage_survivors = (simple_random_sample['survived'].sum() / sample_size) * 100\n",
    "sample_percentage_deceased = 100 - sample_percentage_survivors\n",
    "sample_percentage_survivors_deceased = pd.DataFrame({\"Survivors\": [sample_percentage_survivors],\n",
    "                                              \"Deceased\": [sample_percentage_deceased]}).T.rename(columns={0: '%'})\n",
    "\n",
    "sample_percentage_gender = pd.DataFrame(simple_random_sample['sex'].value_counts() / sample_size * 100).rename(columns={'count': '%'})\n",
    "\n",
    "sample_mean_age = simple_random_sample['age'].mean()\n",
    "sample_mean_fare = simple_random_sample['fare'].mean()"
   ]
  },
  {
   "cell_type": "code",
   "execution_count": 616,
   "metadata": {},
   "outputs": [
    {
     "name": "stdout",
     "output_type": "stream",
     "text": [
      "Percentage of passengers in each class using simple random sampling (size = 50):\n"
     ]
    },
    {
     "data": {
      "text/html": [
       "<div>\n",
       "<style scoped>\n",
       "    .dataframe tbody tr th:only-of-type {\n",
       "        vertical-align: middle;\n",
       "    }\n",
       "\n",
       "    .dataframe tbody tr th {\n",
       "        vertical-align: top;\n",
       "    }\n",
       "\n",
       "    .dataframe thead th {\n",
       "        text-align: right;\n",
       "    }\n",
       "</style>\n",
       "<table border=\"1\" class=\"dataframe\">\n",
       "  <thead>\n",
       "    <tr style=\"text-align: right;\">\n",
       "      <th></th>\n",
       "      <th>%</th>\n",
       "    </tr>\n",
       "    <tr>\n",
       "      <th>class</th>\n",
       "      <th></th>\n",
       "    </tr>\n",
       "  </thead>\n",
       "  <tbody>\n",
       "    <tr>\n",
       "      <th>Third</th>\n",
       "      <td>64.0</td>\n",
       "    </tr>\n",
       "    <tr>\n",
       "      <th>First</th>\n",
       "      <td>24.0</td>\n",
       "    </tr>\n",
       "    <tr>\n",
       "      <th>Second</th>\n",
       "      <td>12.0</td>\n",
       "    </tr>\n",
       "  </tbody>\n",
       "</table>\n",
       "</div>"
      ],
      "text/plain": [
       "           %\n",
       "class       \n",
       "Third   64.0\n",
       "First   24.0\n",
       "Second  12.0"
      ]
     },
     "execution_count": 616,
     "metadata": {},
     "output_type": "execute_result"
    }
   ],
   "source": [
    "print(f\"Percentage of passengers in each class using simple random sampling (size = {sample_size}):\")\n",
    "sample_percentage_by_class"
   ]
  },
  {
   "cell_type": "code",
   "execution_count": 617,
   "metadata": {},
   "outputs": [
    {
     "name": "stdout",
     "output_type": "stream",
     "text": [
      "Percentage of survivors and deceased using simple random sampling (size = 50):\n"
     ]
    },
    {
     "data": {
      "text/html": [
       "<div>\n",
       "<style scoped>\n",
       "    .dataframe tbody tr th:only-of-type {\n",
       "        vertical-align: middle;\n",
       "    }\n",
       "\n",
       "    .dataframe tbody tr th {\n",
       "        vertical-align: top;\n",
       "    }\n",
       "\n",
       "    .dataframe thead th {\n",
       "        text-align: right;\n",
       "    }\n",
       "</style>\n",
       "<table border=\"1\" class=\"dataframe\">\n",
       "  <thead>\n",
       "    <tr style=\"text-align: right;\">\n",
       "      <th></th>\n",
       "      <th>%</th>\n",
       "    </tr>\n",
       "  </thead>\n",
       "  <tbody>\n",
       "    <tr>\n",
       "      <th>Survivors</th>\n",
       "      <td>36.0</td>\n",
       "    </tr>\n",
       "    <tr>\n",
       "      <th>Deceased</th>\n",
       "      <td>64.0</td>\n",
       "    </tr>\n",
       "  </tbody>\n",
       "</table>\n",
       "</div>"
      ],
      "text/plain": [
       "              %\n",
       "Survivors  36.0\n",
       "Deceased   64.0"
      ]
     },
     "execution_count": 617,
     "metadata": {},
     "output_type": "execute_result"
    }
   ],
   "source": [
    "print(f\"Percentage of survivors and deceased using simple random sampling (size = {sample_size}):\")\n",
    "sample_percentage_survivors_deceased"
   ]
  },
  {
   "cell_type": "code",
   "execution_count": 618,
   "metadata": {},
   "outputs": [
    {
     "name": "stdout",
     "output_type": "stream",
     "text": [
      "Percentage of male and female using simple random sampling (size = 50):\n"
     ]
    },
    {
     "data": {
      "text/html": [
       "<div>\n",
       "<style scoped>\n",
       "    .dataframe tbody tr th:only-of-type {\n",
       "        vertical-align: middle;\n",
       "    }\n",
       "\n",
       "    .dataframe tbody tr th {\n",
       "        vertical-align: top;\n",
       "    }\n",
       "\n",
       "    .dataframe thead th {\n",
       "        text-align: right;\n",
       "    }\n",
       "</style>\n",
       "<table border=\"1\" class=\"dataframe\">\n",
       "  <thead>\n",
       "    <tr style=\"text-align: right;\">\n",
       "      <th></th>\n",
       "      <th>%</th>\n",
       "    </tr>\n",
       "    <tr>\n",
       "      <th>sex</th>\n",
       "      <th></th>\n",
       "    </tr>\n",
       "  </thead>\n",
       "  <tbody>\n",
       "    <tr>\n",
       "      <th>male</th>\n",
       "      <td>68.0</td>\n",
       "    </tr>\n",
       "    <tr>\n",
       "      <th>female</th>\n",
       "      <td>32.0</td>\n",
       "    </tr>\n",
       "  </tbody>\n",
       "</table>\n",
       "</div>"
      ],
      "text/plain": [
       "           %\n",
       "sex         \n",
       "male    68.0\n",
       "female  32.0"
      ]
     },
     "execution_count": 618,
     "metadata": {},
     "output_type": "execute_result"
    }
   ],
   "source": [
    "print(f\"Percentage of male and female using simple random sampling (size = {sample_size}):\")\n",
    "sample_percentage_gender"
   ]
  },
  {
   "cell_type": "code",
   "execution_count": 619,
   "metadata": {},
   "outputs": [
    {
     "name": "stdout",
     "output_type": "stream",
     "text": [
      "The mean value of:\n",
      "      - age: 26.128205128205128\n",
      "      - fare: 21.999916\n",
      "using simple random sampling (size = 50)\n"
     ]
    }
   ],
   "source": [
    "print(f\"\"\"The mean value of:\n",
    "      - age: {sample_mean_age}\n",
    "      - fare: {sample_mean_fare}\n",
    "using simple random sampling (size = {sample_size})\"\"\")"
   ]
  },
  {
   "cell_type": "markdown",
   "metadata": {},
   "source": [
    "#### Simple Random Sampling\n",
    "- **Class**: Overrepresented third class, underrepresented second class.\n",
    "- **Survival**: Close to population percentages.\n",
    "- **Gender**: Close to population percentages.\n",
    "- **Age and Fare**: Lower mean age and fare than population."
   ]
  },
  {
   "cell_type": "markdown",
   "metadata": {},
   "source": [
    "# Stratified Random Sampling\n",
    "Here strata is based on an equality between male and female groups"
   ]
  },
  {
   "cell_type": "code",
   "execution_count": 620,
   "metadata": {},
   "outputs": [],
   "source": [
    "### Variables for startified random sampling\n",
    "\n",
    "strata = titanic['sex'].unique()\n",
    "\n",
    "stratified_sample = pd.DataFrame()\n",
    "my_sample_size = 25 # 25 for female and 25 for male\n",
    "for group in strata:\n",
    "    stratum = titanic[titanic['sex'] == group]\n",
    "    if len(stratum) >= my_sample_size:\n",
    "        stratified_sample = pd.concat([stratified_sample, stratum.sample(n=my_sample_size, random_state=42)])\n",
    "\n",
    "stratified_percentage_by_class = pd.DataFrame(stratified_sample['class'].value_counts() / stratified_sample.shape[0] * 100).rename(columns={'count': '%'})\n",
    "\n",
    "stratified_percentage_survivors = (stratified_sample['survived'].sum() / stratified_sample.shape[0]) * 100\n",
    "stratified_percentage_deceased = 100 - stratified_percentage_survivors\n",
    "stratified_percentage_survivors_deceased = pd.DataFrame({\"Survivors\": [stratified_percentage_survivors],\n",
    "                                              \"Deceased\": [stratified_percentage_deceased]}).T.rename(columns={0: '%'})\n",
    "\n",
    "stratified_percentage_gender = pd.DataFrame(stratified_sample['sex'].value_counts() / stratified_sample.shape[0] * 100).rename(columns={'count': '%'})\n",
    "\n",
    "stratified_mean_age = stratified_sample['age'].mean()\n",
    "stratified_mean_fare = stratified_sample['fare'].mean()"
   ]
  },
  {
   "cell_type": "code",
   "execution_count": 621,
   "metadata": {},
   "outputs": [
    {
     "name": "stdout",
     "output_type": "stream",
     "text": [
      "Percentage of passengers in each class using stratified random sampling (size = 50):\n"
     ]
    },
    {
     "data": {
      "text/html": [
       "<div>\n",
       "<style scoped>\n",
       "    .dataframe tbody tr th:only-of-type {\n",
       "        vertical-align: middle;\n",
       "    }\n",
       "\n",
       "    .dataframe tbody tr th {\n",
       "        vertical-align: top;\n",
       "    }\n",
       "\n",
       "    .dataframe thead th {\n",
       "        text-align: right;\n",
       "    }\n",
       "</style>\n",
       "<table border=\"1\" class=\"dataframe\">\n",
       "  <thead>\n",
       "    <tr style=\"text-align: right;\">\n",
       "      <th></th>\n",
       "      <th>%</th>\n",
       "    </tr>\n",
       "    <tr>\n",
       "      <th>class</th>\n",
       "      <th></th>\n",
       "    </tr>\n",
       "  </thead>\n",
       "  <tbody>\n",
       "    <tr>\n",
       "      <th>Third</th>\n",
       "      <td>52.0</td>\n",
       "    </tr>\n",
       "    <tr>\n",
       "      <th>First</th>\n",
       "      <td>24.0</td>\n",
       "    </tr>\n",
       "    <tr>\n",
       "      <th>Second</th>\n",
       "      <td>24.0</td>\n",
       "    </tr>\n",
       "  </tbody>\n",
       "</table>\n",
       "</div>"
      ],
      "text/plain": [
       "           %\n",
       "class       \n",
       "Third   52.0\n",
       "First   24.0\n",
       "Second  24.0"
      ]
     },
     "execution_count": 621,
     "metadata": {},
     "output_type": "execute_result"
    }
   ],
   "source": [
    "print(f\"Percentage of passengers in each class using stratified random sampling (size = {sample_size}):\")\n",
    "stratified_percentage_by_class"
   ]
  },
  {
   "cell_type": "code",
   "execution_count": 622,
   "metadata": {},
   "outputs": [
    {
     "name": "stdout",
     "output_type": "stream",
     "text": [
      "Percentage of survivors and deceased using stratified random sampling (size = 50):\n"
     ]
    },
    {
     "data": {
      "text/html": [
       "<div>\n",
       "<style scoped>\n",
       "    .dataframe tbody tr th:only-of-type {\n",
       "        vertical-align: middle;\n",
       "    }\n",
       "\n",
       "    .dataframe tbody tr th {\n",
       "        vertical-align: top;\n",
       "    }\n",
       "\n",
       "    .dataframe thead th {\n",
       "        text-align: right;\n",
       "    }\n",
       "</style>\n",
       "<table border=\"1\" class=\"dataframe\">\n",
       "  <thead>\n",
       "    <tr style=\"text-align: right;\">\n",
       "      <th></th>\n",
       "      <th>%</th>\n",
       "    </tr>\n",
       "  </thead>\n",
       "  <tbody>\n",
       "    <tr>\n",
       "      <th>Survivors</th>\n",
       "      <td>46.0</td>\n",
       "    </tr>\n",
       "    <tr>\n",
       "      <th>Deceased</th>\n",
       "      <td>54.0</td>\n",
       "    </tr>\n",
       "  </tbody>\n",
       "</table>\n",
       "</div>"
      ],
      "text/plain": [
       "              %\n",
       "Survivors  46.0\n",
       "Deceased   54.0"
      ]
     },
     "execution_count": 622,
     "metadata": {},
     "output_type": "execute_result"
    }
   ],
   "source": [
    "print(f\"Percentage of survivors and deceased using stratified random sampling (size = {sample_size}):\")\n",
    "stratified_percentage_survivors_deceased"
   ]
  },
  {
   "cell_type": "code",
   "execution_count": 623,
   "metadata": {},
   "outputs": [
    {
     "name": "stdout",
     "output_type": "stream",
     "text": [
      "Percentage of male and female using stratified random sampling (size = 50):\n"
     ]
    },
    {
     "data": {
      "text/html": [
       "<div>\n",
       "<style scoped>\n",
       "    .dataframe tbody tr th:only-of-type {\n",
       "        vertical-align: middle;\n",
       "    }\n",
       "\n",
       "    .dataframe tbody tr th {\n",
       "        vertical-align: top;\n",
       "    }\n",
       "\n",
       "    .dataframe thead th {\n",
       "        text-align: right;\n",
       "    }\n",
       "</style>\n",
       "<table border=\"1\" class=\"dataframe\">\n",
       "  <thead>\n",
       "    <tr style=\"text-align: right;\">\n",
       "      <th></th>\n",
       "      <th>%</th>\n",
       "    </tr>\n",
       "    <tr>\n",
       "      <th>sex</th>\n",
       "      <th></th>\n",
       "    </tr>\n",
       "  </thead>\n",
       "  <tbody>\n",
       "    <tr>\n",
       "      <th>male</th>\n",
       "      <td>50.0</td>\n",
       "    </tr>\n",
       "    <tr>\n",
       "      <th>female</th>\n",
       "      <td>50.0</td>\n",
       "    </tr>\n",
       "  </tbody>\n",
       "</table>\n",
       "</div>"
      ],
      "text/plain": [
       "           %\n",
       "sex         \n",
       "male    50.0\n",
       "female  50.0"
      ]
     },
     "execution_count": 623,
     "metadata": {},
     "output_type": "execute_result"
    }
   ],
   "source": [
    "print(f\"Percentage of male and female using stratified random sampling (size = {sample_size}):\")\n",
    "stratified_percentage_gender"
   ]
  },
  {
   "cell_type": "code",
   "execution_count": 624,
   "metadata": {},
   "outputs": [
    {
     "name": "stdout",
     "output_type": "stream",
     "text": [
      "The mean value of:\n",
      "      - age: 29.329268292682926\n",
      "      - fare: 31.571002\n",
      "using stratified random sampling (size = 50)\n"
     ]
    }
   ],
   "source": [
    "print(f\"\"\"The mean value of:\n",
    "      - age: {stratified_mean_age}\n",
    "      - fare: {stratified_mean_fare}\n",
    "using stratified random sampling (size = {sample_size})\"\"\")"
   ]
  },
  {
   "cell_type": "markdown",
   "metadata": {},
   "source": [
    "#### Stratified Random Sampling\n",
    "- **Class**: Closely matches population distribution (a bit of overestimation of Second Class)\n",
    "- **Survival**: Higher survival rate.\n",
    "- **Gender**: Perfect gender balance (50-50).\n",
    "- **Age and Fare**: Mean values closer to population but slightly lower."
   ]
  },
  {
   "cell_type": "markdown",
   "metadata": {},
   "source": [
    "# Cluster Sampling\n",
    "Clusters based on consecutive passenger IDs"
   ]
  },
  {
   "cell_type": "code",
   "execution_count": 625,
   "metadata": {},
   "outputs": [],
   "source": [
    "### Variables for cluster sampling\n",
    "\n",
    "random.seed(42)\n",
    "\n",
    "cluster_size = 10  # Number of passengers in each cluster\n",
    "total_clusters = len(titanic) // cluster_size\n",
    "cluster_ids = list(range(total_clusters))\n",
    "\n",
    "# Sample 5 clusters, each containing 10 passengers\n",
    "cluster_sample = pd.DataFrame()\n",
    "sample_clusters = random.sample(cluster_ids, 5)\n",
    "for cluster_id in sample_clusters:\n",
    "    cluster = titanic.iloc[cluster_id * cluster_size : (cluster_id + 1) * cluster_size]\n",
    "    cluster_sample = pd.concat([cluster_sample, cluster])\n",
    "\n",
    "cluster_percentage_by_class = pd.DataFrame(cluster_sample['class'].value_counts() / sample_size * 100).rename(columns={'count': '%'})\n",
    "\n",
    "cluster_percentage_survivors = (cluster_sample['survived'].sum() / sample_size) * 100\n",
    "cluster_percentage_deceased = 100 - cluster_percentage_survivors\n",
    "cluster_percentage_survivors_deceased = pd.DataFrame({\"Survivors\": [cluster_percentage_survivors],\n",
    "                                              \"Deceased\": [cluster_percentage_deceased]}).T.rename(columns={0: '%'})\n",
    "\n",
    "cluster_percentage_gender = pd.DataFrame(cluster_sample['sex'].value_counts() / sample_size * 100).rename(columns={'count': '%'})\n",
    "\n",
    "cluster_mean_age = cluster_sample['age'].mean()\n",
    "cluster_mean_fare = cluster_sample['fare'].mean()"
   ]
  },
  {
   "cell_type": "code",
   "execution_count": 626,
   "metadata": {},
   "outputs": [
    {
     "name": "stdout",
     "output_type": "stream",
     "text": [
      "Percentage of passengers in each class using cluster sampling (size = 50):\n"
     ]
    },
    {
     "data": {
      "text/html": [
       "<div>\n",
       "<style scoped>\n",
       "    .dataframe tbody tr th:only-of-type {\n",
       "        vertical-align: middle;\n",
       "    }\n",
       "\n",
       "    .dataframe tbody tr th {\n",
       "        vertical-align: top;\n",
       "    }\n",
       "\n",
       "    .dataframe thead th {\n",
       "        text-align: right;\n",
       "    }\n",
       "</style>\n",
       "<table border=\"1\" class=\"dataframe\">\n",
       "  <thead>\n",
       "    <tr style=\"text-align: right;\">\n",
       "      <th></th>\n",
       "      <th>%</th>\n",
       "    </tr>\n",
       "    <tr>\n",
       "      <th>class</th>\n",
       "      <th></th>\n",
       "    </tr>\n",
       "  </thead>\n",
       "  <tbody>\n",
       "    <tr>\n",
       "      <th>Third</th>\n",
       "      <td>54.0</td>\n",
       "    </tr>\n",
       "    <tr>\n",
       "      <th>Second</th>\n",
       "      <td>24.0</td>\n",
       "    </tr>\n",
       "    <tr>\n",
       "      <th>First</th>\n",
       "      <td>22.0</td>\n",
       "    </tr>\n",
       "  </tbody>\n",
       "</table>\n",
       "</div>"
      ],
      "text/plain": [
       "           %\n",
       "class       \n",
       "Third   54.0\n",
       "Second  24.0\n",
       "First   22.0"
      ]
     },
     "execution_count": 626,
     "metadata": {},
     "output_type": "execute_result"
    }
   ],
   "source": [
    "print(f\"Percentage of passengers in each class using cluster sampling (size = {sample_size}):\")\n",
    "cluster_percentage_by_class"
   ]
  },
  {
   "cell_type": "code",
   "execution_count": 627,
   "metadata": {},
   "outputs": [
    {
     "name": "stdout",
     "output_type": "stream",
     "text": [
      "Percentage of survivors and deceased using cluster sampling (size = 50):\n"
     ]
    },
    {
     "data": {
      "text/html": [
       "<div>\n",
       "<style scoped>\n",
       "    .dataframe tbody tr th:only-of-type {\n",
       "        vertical-align: middle;\n",
       "    }\n",
       "\n",
       "    .dataframe tbody tr th {\n",
       "        vertical-align: top;\n",
       "    }\n",
       "\n",
       "    .dataframe thead th {\n",
       "        text-align: right;\n",
       "    }\n",
       "</style>\n",
       "<table border=\"1\" class=\"dataframe\">\n",
       "  <thead>\n",
       "    <tr style=\"text-align: right;\">\n",
       "      <th></th>\n",
       "      <th>%</th>\n",
       "    </tr>\n",
       "  </thead>\n",
       "  <tbody>\n",
       "    <tr>\n",
       "      <th>Survivors</th>\n",
       "      <td>32.0</td>\n",
       "    </tr>\n",
       "    <tr>\n",
       "      <th>Deceased</th>\n",
       "      <td>68.0</td>\n",
       "    </tr>\n",
       "  </tbody>\n",
       "</table>\n",
       "</div>"
      ],
      "text/plain": [
       "              %\n",
       "Survivors  32.0\n",
       "Deceased   68.0"
      ]
     },
     "execution_count": 627,
     "metadata": {},
     "output_type": "execute_result"
    }
   ],
   "source": [
    "print(f\"Percentage of survivors and deceased using cluster sampling (size = {sample_size}):\")\n",
    "cluster_percentage_survivors_deceased"
   ]
  },
  {
   "cell_type": "code",
   "execution_count": 628,
   "metadata": {},
   "outputs": [
    {
     "name": "stdout",
     "output_type": "stream",
     "text": [
      "Percentage of male and female using cluster sampling (size = 50):\n"
     ]
    },
    {
     "data": {
      "text/html": [
       "<div>\n",
       "<style scoped>\n",
       "    .dataframe tbody tr th:only-of-type {\n",
       "        vertical-align: middle;\n",
       "    }\n",
       "\n",
       "    .dataframe tbody tr th {\n",
       "        vertical-align: top;\n",
       "    }\n",
       "\n",
       "    .dataframe thead th {\n",
       "        text-align: right;\n",
       "    }\n",
       "</style>\n",
       "<table border=\"1\" class=\"dataframe\">\n",
       "  <thead>\n",
       "    <tr style=\"text-align: right;\">\n",
       "      <th></th>\n",
       "      <th>%</th>\n",
       "    </tr>\n",
       "    <tr>\n",
       "      <th>sex</th>\n",
       "      <th></th>\n",
       "    </tr>\n",
       "  </thead>\n",
       "  <tbody>\n",
       "    <tr>\n",
       "      <th>male</th>\n",
       "      <td>58.0</td>\n",
       "    </tr>\n",
       "    <tr>\n",
       "      <th>female</th>\n",
       "      <td>42.0</td>\n",
       "    </tr>\n",
       "  </tbody>\n",
       "</table>\n",
       "</div>"
      ],
      "text/plain": [
       "           %\n",
       "sex         \n",
       "male    58.0\n",
       "female  42.0"
      ]
     },
     "execution_count": 628,
     "metadata": {},
     "output_type": "execute_result"
    }
   ],
   "source": [
    "print(f\"Percentage of male and female using cluster sampling (size = {sample_size}):\")\n",
    "cluster_percentage_gender"
   ]
  },
  {
   "cell_type": "code",
   "execution_count": 629,
   "metadata": {},
   "outputs": [
    {
     "name": "stdout",
     "output_type": "stream",
     "text": [
      "The mean value of:\n",
      "      - age: 28.146341463414632\n",
      "      - fare: 32.59958400000001\n",
      "using stratified random sampling (size = 50)\n"
     ]
    }
   ],
   "source": [
    "print(f\"\"\"The mean value of:\n",
    "      - age: {cluster_mean_age}\n",
    "      - fare: {cluster_mean_fare}\n",
    "using stratified random sampling (size = {sample_size})\"\"\")"
   ]
  },
  {
   "cell_type": "markdown",
   "metadata": {},
   "source": [
    "#### Cluster Sampling\n",
    "- **Class**: Closely matches population distribution.\n",
    "- **Survival**: Lower survival rate, higher deceased rate.\n",
    "- **Gender**: Slightly more balanced than population.\n",
    "- **Age and Fare**: Mean values very close to population."
   ]
  },
  {
   "cell_type": "markdown",
   "metadata": {},
   "source": [
    "# Systematic Sampling"
   ]
  },
  {
   "cell_type": "code",
   "execution_count": 630,
   "metadata": {},
   "outputs": [],
   "source": [
    "### Variables for systematic sampling\n",
    "\n",
    "sampling_interval = len(titanic) // sample_size\n",
    "systematic_sample = titanic.iloc[::sampling_interval].sample(sample_size, random_state=42)\n",
    "\n",
    "systematic_percentage_by_class = pd.DataFrame(systematic_sample['class'].value_counts() / sample_size * 100).rename(columns={'count': '%'})\n",
    "\n",
    "systematic_percentage_survivors = (systematic_sample['survived'].sum() / sample_size) * 100\n",
    "systematic_percentage_deceased = 100 - systematic_percentage_survivors\n",
    "systematic_percentage_survivors_deceased = pd.DataFrame({\"Survivors\": [systematic_percentage_survivors],\n",
    "                                              \"Deceased\": [systematic_percentage_deceased]}).T.rename(columns={0: '%'})\n",
    "\n",
    "systematic_percentage_gender = pd.DataFrame(systematic_sample['sex'].value_counts() / sample_size * 100).rename(columns={'count': '%'})\n",
    "\n",
    "systematic_mean_age = systematic_sample['age'].mean()\n",
    "systematic_mean_fare = systematic_sample['fare'].mean()"
   ]
  },
  {
   "cell_type": "code",
   "execution_count": 631,
   "metadata": {},
   "outputs": [
    {
     "name": "stdout",
     "output_type": "stream",
     "text": [
      "Percentage of passengers in each class using systematic sampling (size = 50):\n"
     ]
    },
    {
     "data": {
      "text/html": [
       "<div>\n",
       "<style scoped>\n",
       "    .dataframe tbody tr th:only-of-type {\n",
       "        vertical-align: middle;\n",
       "    }\n",
       "\n",
       "    .dataframe tbody tr th {\n",
       "        vertical-align: top;\n",
       "    }\n",
       "\n",
       "    .dataframe thead th {\n",
       "        text-align: right;\n",
       "    }\n",
       "</style>\n",
       "<table border=\"1\" class=\"dataframe\">\n",
       "  <thead>\n",
       "    <tr style=\"text-align: right;\">\n",
       "      <th></th>\n",
       "      <th>%</th>\n",
       "    </tr>\n",
       "    <tr>\n",
       "      <th>class</th>\n",
       "      <th></th>\n",
       "    </tr>\n",
       "  </thead>\n",
       "  <tbody>\n",
       "    <tr>\n",
       "      <th>Third</th>\n",
       "      <td>60.0</td>\n",
       "    </tr>\n",
       "    <tr>\n",
       "      <th>First</th>\n",
       "      <td>24.0</td>\n",
       "    </tr>\n",
       "    <tr>\n",
       "      <th>Second</th>\n",
       "      <td>16.0</td>\n",
       "    </tr>\n",
       "  </tbody>\n",
       "</table>\n",
       "</div>"
      ],
      "text/plain": [
       "           %\n",
       "class       \n",
       "Third   60.0\n",
       "First   24.0\n",
       "Second  16.0"
      ]
     },
     "execution_count": 631,
     "metadata": {},
     "output_type": "execute_result"
    }
   ],
   "source": [
    "print(f\"Percentage of passengers in each class using systematic sampling (size = {sample_size}):\")\n",
    "systematic_percentage_by_class"
   ]
  },
  {
   "cell_type": "code",
   "execution_count": 632,
   "metadata": {},
   "outputs": [
    {
     "name": "stdout",
     "output_type": "stream",
     "text": [
      "Percentage of survivors and deceased using systematic sampling (size = 50):\n"
     ]
    },
    {
     "data": {
      "text/html": [
       "<div>\n",
       "<style scoped>\n",
       "    .dataframe tbody tr th:only-of-type {\n",
       "        vertical-align: middle;\n",
       "    }\n",
       "\n",
       "    .dataframe tbody tr th {\n",
       "        vertical-align: top;\n",
       "    }\n",
       "\n",
       "    .dataframe thead th {\n",
       "        text-align: right;\n",
       "    }\n",
       "</style>\n",
       "<table border=\"1\" class=\"dataframe\">\n",
       "  <thead>\n",
       "    <tr style=\"text-align: right;\">\n",
       "      <th></th>\n",
       "      <th>%</th>\n",
       "    </tr>\n",
       "  </thead>\n",
       "  <tbody>\n",
       "    <tr>\n",
       "      <th>Survivors</th>\n",
       "      <td>34.0</td>\n",
       "    </tr>\n",
       "    <tr>\n",
       "      <th>Deceased</th>\n",
       "      <td>66.0</td>\n",
       "    </tr>\n",
       "  </tbody>\n",
       "</table>\n",
       "</div>"
      ],
      "text/plain": [
       "              %\n",
       "Survivors  34.0\n",
       "Deceased   66.0"
      ]
     },
     "execution_count": 632,
     "metadata": {},
     "output_type": "execute_result"
    }
   ],
   "source": [
    "print(f\"Percentage of survivors and deceased using systematic sampling (size = {sample_size}):\")\n",
    "systematic_percentage_survivors_deceased"
   ]
  },
  {
   "cell_type": "code",
   "execution_count": 633,
   "metadata": {},
   "outputs": [
    {
     "name": "stdout",
     "output_type": "stream",
     "text": [
      "Percentage of male and female using systematic sampling (size = 50):\n"
     ]
    },
    {
     "data": {
      "text/html": [
       "<div>\n",
       "<style scoped>\n",
       "    .dataframe tbody tr th:only-of-type {\n",
       "        vertical-align: middle;\n",
       "    }\n",
       "\n",
       "    .dataframe tbody tr th {\n",
       "        vertical-align: top;\n",
       "    }\n",
       "\n",
       "    .dataframe thead th {\n",
       "        text-align: right;\n",
       "    }\n",
       "</style>\n",
       "<table border=\"1\" class=\"dataframe\">\n",
       "  <thead>\n",
       "    <tr style=\"text-align: right;\">\n",
       "      <th></th>\n",
       "      <th>%</th>\n",
       "    </tr>\n",
       "    <tr>\n",
       "      <th>sex</th>\n",
       "      <th></th>\n",
       "    </tr>\n",
       "  </thead>\n",
       "  <tbody>\n",
       "    <tr>\n",
       "      <th>male</th>\n",
       "      <td>64.0</td>\n",
       "    </tr>\n",
       "    <tr>\n",
       "      <th>female</th>\n",
       "      <td>36.0</td>\n",
       "    </tr>\n",
       "  </tbody>\n",
       "</table>\n",
       "</div>"
      ],
      "text/plain": [
       "           %\n",
       "sex         \n",
       "male    64.0\n",
       "female  36.0"
      ]
     },
     "execution_count": 633,
     "metadata": {},
     "output_type": "execute_result"
    }
   ],
   "source": [
    "print(f\"Percentage of male and female using systematic sampling (size = {sample_size}):\")\n",
    "systematic_percentage_gender"
   ]
  },
  {
   "cell_type": "code",
   "execution_count": 634,
   "metadata": {},
   "outputs": [
    {
     "name": "stdout",
     "output_type": "stream",
     "text": [
      "The mean value of:\n",
      "      - age: 28.1625\n",
      "      - fare: 28.108078\n",
      "using systematic random sampling (size = 50)\n"
     ]
    }
   ],
   "source": [
    "print(f\"\"\"The mean value of:\n",
    "      - age: {systematic_mean_age}\n",
    "      - fare: {systematic_mean_fare}\n",
    "using systematic random sampling (size = {sample_size})\"\"\")"
   ]
  },
  {
   "cell_type": "markdown",
   "metadata": {},
   "source": [
    "#### Systematic Sampling\n",
    "- **Class**: Lowered Second Class representation.\n",
    "- **Survival**: Close to population percentages.\n",
    "- **Gender**: Very close to population percentages.\n",
    "- **Age and Fare**: Mean values rather close to population."
   ]
  }
 ],
 "metadata": {
  "kernelspec": {
   "display_name": "Python 3",
   "language": "python",
   "name": "python3"
  },
  "language_info": {
   "codemirror_mode": {
    "name": "ipython",
    "version": 3
   },
   "file_extension": ".py",
   "mimetype": "text/x-python",
   "name": "python",
   "nbconvert_exporter": "python",
   "pygments_lexer": "ipython3",
   "version": "3.11.9"
  }
 },
 "nbformat": 4,
 "nbformat_minor": 2
}
