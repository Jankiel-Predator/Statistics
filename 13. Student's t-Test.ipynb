{
 "cells": [
  {
   "cell_type": "markdown",
   "metadata": {},
   "source": [
    "# Hypothesis Testing - Student's t-Test\n",
    "\n",
    "### Objective\n",
    "The objective is to study and practically apply methods of statistical hypothesis testing based on Student's t-distribution, focusing on comparing means in two samples.\n",
    "\n",
    "## 1. Crucial Concepts of Hypothesis Testing\n",
    "\n",
    "A **statistical hypothesis** is an assumption about the nature of the distribution of data in a\n",
    "population or the relationship between variables. Hypotheses are used to test statistical\n",
    "assumptions and make decisions based on data.\n",
    "\n",
    "- **Null Hypothesis (H0):** The hypothesis that a researcher intends to test. Typically asserts the\n",
    "absence of an effect or differences.\n",
    "- **Alternative Hypothesis (H1 or Ha)**: The opposite of the null hypothesis, suggesting the\n",
    "presence of an effect or differences.\n",
    "\n",
    "When testing a statistical hypothesis, we begin with the assumption that the null hypothesis\n",
    "is true. From this assumption, certain conclusions are drawn, and their alignment with the\n",
    "sample data is assessed. To achieve this, a measure (**test statistic**) of the discrepancy\n",
    "between the sample data and the conclusions is established. A test statistic is computed\n",
    "using sample data and is the value used to reach a conclusion to reject or fail to reject H0.\n",
    "\n",
    "- **Significance Level (α):** The threshold probability used to determine whether the null\n",
    "hypothesis can be rejected. Usually set at 0.05 or 0.01.\n",
    "- **p-value:** The probability of obtaining results as extreme or more extreme than observed if\n",
    "the null hypothesis is true. If the p-value is less than the significance level, the null\n",
    "hypothesis can be rejected.\n",
    "\n",
    "## 2. Student's t-Test\n",
    "\n",
    "**Student's t-test** is a general term for a class of statistical hypothesis testing methods based on the Student's t-distribution. The most common applications of the t-test involve testing the equality of means in two samples.\n",
    "\n",
    "**Independent t-test:**\n",
    "- The independent t-test is used to compare the means of two independent groups.\n",
    "- It assumes that the data in both groups follow a normal distribution.\n",
    "\n",
    "**Hypothesis Formulation:**\n",
    "- **Null Hypothesis (H0):** The means of both groups are equal.\n",
    "- **Alternative Hypothesis (Ha):** The means of both groups are different.\n",
    "\n",
    "The formula for the  Student's t-test to compare the means of two independent groups is given by:\n",
    "\n",
    "$$ t = \\frac{\\bar{X}_1 - \\bar{X}_2}{\\sqrt{\\frac{s_1^2}{n_1} + \\frac{s_2^2}{n_2}}} $$\n",
    "\n",
    "where:\n",
    "- $\\bar{X}_1$ and $\\bar{X}_2$ are the sample means of the two groups\n",
    "- $s_1^2$ and $s_2^2$ are the sample variances of the two groups\n",
    "- $n_1$ and $n_2$ are the sample sizes of the two groups\n",
    "\n",
    "The denominator of the t-statistic is the standard error of the difference between the two means. This formula assumes that the two groups are independent, the data is normally distributed, and the variances of the two groups are equal (homogeneity of variances).\n",
    "\n",
    "**t-Table and p-value:**\n",
    "- The t-table is used to find the critical t-value for a given significance level and degrees of\n",
    "freedom.\n",
    "- The p-value is calculated to determine the probability of obtaining such extreme results\n",
    "under the null hypothesis.\n",
    "\n",
    "**Comparison of t-statistic and Critical Value:**\n",
    "- If the t-statistic exceeds the critical value from the table or if the p-value is less than the\n",
    "chosen significance level, we reject the null hypothesis.\n",
    "- If the null hypothesis is rejected, it indicates a statistically significant difference between\n",
    "the means of the two groups.\n",
    "\n",
    "## 3. Observations & Conclusions\n",
    "\n",
    "1. **Initial Hypothesis Test (Equal Sample Sizes)**:\n",
    "   - With (sample size = 200), the t-test results in a t-statistic of approximately -7.57 and a p-value of approximately $2.56 \\times 10^{-13}$. This extremely small p-value indicates a very strong rejection of the null hypothesis (H0) of equal means. This means that there is strong evidence that the means of the two groups are different when the sample size is 200.\n",
    "\n",
    "2. **Maximum Sample Size for H0 Not Rejected (Equal Sample Sizes)**:\n",
    "   - The maximum sample size for which the null hypothesis fails to be rejected (p-value >= 0.05) is 70. This indicates that when the sample sizes are equal and less than or equal to 70, the test does not have sufficient power to detect the difference between the means, and thus, the null hypothesis of equal means cannot be rejected.\n",
    "\n",
    "3. **Impact of Unequal Sample Sizes**:\n",
    "   - When one group has a significantly larger sample size (200) and the other group is smaller, the maximum sample size for the smaller group for which H0 fails to be rejected is 24. This suggests that even with one group being large, if the smaller group has 24 or fewer samples, the test lacks the power to detect the difference in means and the null hypothesis cannot be rejected."
   ]
  },
  {
   "cell_type": "code",
   "execution_count": 10,
   "metadata": {},
   "outputs": [],
   "source": [
    "import numpy as np\n",
    "from scipy.stats import ttest_ind\n",
    "\n",
    "np.random.seed(42)"
   ]
  },
  {
   "cell_type": "code",
   "execution_count": 11,
   "metadata": {},
   "outputs": [],
   "source": [
    "### Generate samples\n",
    "\n",
    "mu1, sigma = 9, 5\n",
    "mu2 = mu1 + 3\n",
    "N = 200\n",
    "\n",
    "group1 = np.random.normal(mu1, sigma, N)\n",
    "group2 = np.random.normal(mu2, sigma, N)"
   ]
  },
  {
   "cell_type": "code",
   "execution_count": 12,
   "metadata": {},
   "outputs": [
    {
     "name": "stdout",
     "output_type": "stream",
     "text": [
      "t-statistic: -7.5737925849171965\n",
      "p-value: 2.5587352218286877e-13\n"
     ]
    }
   ],
   "source": [
    "### Hypothesis Testing\n",
    "\n",
    "t_stat, p_value = ttest_ind(group1, group2)\n",
    "\n",
    "print(f\"t-statistic: {t_stat}\")\n",
    "print(f\"p-value: {p_value}\")"
   ]
  },
  {
   "cell_type": "code",
   "execution_count": 13,
   "metadata": {},
   "outputs": [],
   "source": [
    "### Find the maximum N for which the null hypothesis fails to be rejected\n",
    "\n",
    "def find_max_N(mu1, mu2, sigma, alpha=0.05):\n",
    "    max_N = 0\n",
    "    for N in range(2, 201):  # Start from 2 to 200\n",
    "        group1 = np.random.normal(mu1, sigma, N)\n",
    "        group2 = np.random.normal(mu2, sigma, N)\n",
    "        t_stat, p_value = ttest_ind(group1, group2)\n",
    "        if p_value >= alpha:\n",
    "            max_N = N\n",
    "    return max_N\n",
    "\n",
    "max_N_equal_sizes = find_max_N(mu1, mu2, sigma)"
   ]
  },
  {
   "cell_type": "code",
   "execution_count": 14,
   "metadata": {},
   "outputs": [],
   "source": [
    "### Now let's see the impact of having one group significantly larger than the other\n",
    "\n",
    "def find_max_N_unequal_sizes(mu1, mu2, sigma, N_large, alpha=0.05):\n",
    "    max_N_small = 0\n",
    "    for N_small in range(2, 201):\n",
    "        group1 = np.random.normal(mu1, sigma, N_large)\n",
    "        group2 = np.random.normal(mu2, sigma, N_small)\n",
    "        t_stat, p_value = ttest_ind(group1, group2)\n",
    "        if p_value >= alpha:\n",
    "            max_N_small = N_small\n",
    "    return max_N_small\n",
    "\n",
    "N_large = 200\n",
    "max_N_unequal_sizes = find_max_N_unequal_sizes(mu1, mu2, sigma, N_large)"
   ]
  },
  {
   "cell_type": "code",
   "execution_count": 15,
   "metadata": {},
   "outputs": [
    {
     "name": "stdout",
     "output_type": "stream",
     "text": [
      "Maximum sample size for which H0 fails to be rejected (equal sizes): 70\n",
      "Maximum sample size for which H0 fails to be rejected (one group larger): 24\n"
     ]
    }
   ],
   "source": [
    "print(f\"Maximum sample size for which H0 fails to be rejected (equal sizes): {max_N_equal_sizes}\")\n",
    "print(f\"Maximum sample size for which H0 fails to be rejected (one group larger): {max_N_unequal_sizes}\")"
   ]
  }
 ],
 "metadata": {
  "kernelspec": {
   "display_name": "Python 3",
   "language": "python",
   "name": "python3"
  },
  "language_info": {
   "codemirror_mode": {
    "name": "ipython",
    "version": 3
   },
   "file_extension": ".py",
   "mimetype": "text/x-python",
   "name": "python",
   "nbconvert_exporter": "python",
   "pygments_lexer": "ipython3",
   "version": "3.11.9"
  }
 },
 "nbformat": 4,
 "nbformat_minor": 2
}
