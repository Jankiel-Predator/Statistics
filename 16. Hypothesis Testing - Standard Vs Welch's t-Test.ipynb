{
 "cells": [
  {
   "cell_type": "markdown",
   "metadata": {},
   "source": [
    "# Hypothesis Testing - Standard Vs Welch's t-Test\n",
    "\n",
    "### Objective\n",
    "The aim is to understand and implement in Python hypothesis testing of means for two samples, where the variances of the samples differ and where they are equal.\n",
    "\n",
    "## 1. Tests\n",
    "In the standard t-test, degrees of freedom are calculated as the $n_1+n_2-2$ ($n_1$, $n_2$ - sizes of samples 1 and 2, respectively). Welch's t-test formula takes into account the different variances of the samples when determining the degrees of freedom. Once the degrees of freedom are determined, the t-statistic follows a t distribution with the calculated degrees of freedom. This allows for the proper interpretation of the test results and drawing conclusions about the significance of differences between the means of the samples.\n",
    "\n",
    "## 2. Comparison\n",
    "### Standard t-test:\n",
    "\n",
    "|        Alpha=0.05  | t-statistic | p-value     |\n",
    "|--------------------|---------------|---------------|\n",
    "| **n1, n2 < 30**        |              |                |\n",
    "| n1 = n2, σ1 = σ2     |       0.7429        |     0.4612          |\n",
    "| n1 = n2, σ1 >  σ2    |        0.7422         |       0.4616      |\n",
    "| n1 > n2, σ1 >  σ2     |         0.5557        |      0.5808      |\n",
    "| **n1, n2 > 200**       |                 |             |\n",
    "| n1 = n2, σ1 = σ2     |        1.5327          |     0.1261       |\n",
    "| n1 = n2, σ1 >  σ2    |          1.3344          |      0.1828    |\n",
    "| n1 > n2, σ1 >  σ2     |        0.8492         |      0.3962      |\n",
    "\n",
    "#### Conclusion for Standard t-test:\n",
    "\n",
    "- For small sample sizes (n1, n2 < 30), regardless of the variance conditions, the t-statistic and p-values suggest no significant difference in means between the two samples.\n",
    "- However, for large sample sizes (n1, n2 > 200), when variances are equal, the t-statistic and p-value indicate a potential significant difference in means between the samples. When variances are unequal, the results are similar, suggesting a possible significant difference in means.\n",
    "\n",
    "### Welch's t-test:\n",
    "\n",
    "|        Alpha=0.05  | t-statistic | p-value     |\n",
    "|--------------------|---------------|---------------|\n",
    "| **n1, n2 < 30**        |              |                |\n",
    "| n1 = n2, σ1 = σ2     |        0.7429       |       0.4612         |\n",
    "| n1 = n2, σ1 >  σ2    |       0.7422          |      0.4620       |\n",
    "| n1 > n2, σ1 >  σ2     |     0.5662            |     0.5737       |\n",
    "| **n1, n2 > 200**       |                |           |\n",
    "| n1 = n2, σ1 = σ2     |        1.5327          |   0.1261         |\n",
    "| n1 = n2, σ1 >  σ2    |          1.3344          |     0.1828     |\n",
    "| n1 > n2, σ1 >  σ2     |      0.8757           |      0.3816      |\n",
    "\n",
    "#### Conclusion for Welch's t-test:\n",
    "\n",
    "- For both small and large sample sizes, the results of Welch's t-test are similar to those of the standard t-test, suggesting no significant difference in means between the two samples.\n",
    "- However, for large sample sizes when variances are equal, Welch's t-test indicates a potential significant difference in means between the samples.\n",
    "\n",
    "\n",
    "In summary, while the standard t-test provides reliable results for small sample sizes, Welch's t-test offers robustness when variances are unequal, particularly for large sample sizes."
   ]
  },
  {
   "cell_type": "code",
   "execution_count": 9,
   "metadata": {},
   "outputs": [],
   "source": [
    "import numpy as np\n",
    "from scipy import stats\n",
    "\n",
    "np.random.seed(123)"
   ]
  },
  {
   "cell_type": "code",
   "execution_count": 47,
   "metadata": {},
   "outputs": [],
   "source": [
    "def welcht_test(scale1, size1, scale2, size2):\n",
    "    \n",
    "    np.random.seed(123)\n",
    "\n",
    "    sample1 = np.random.normal(loc=9, scale=scale1, size=size1)\n",
    "    sample2 = np.random.normal(loc=9, scale=scale2, size=size2)\n",
    "\n",
    "    # Standard t-test\n",
    "    t_statistic1, p_value1 = stats.ttest_ind(sample1, sample2, equal_var=True)\n",
    "\n",
    "    # Welch t-test\n",
    "    t_statistic2, p_value2 = stats.ttest_ind(sample1, sample2, equal_var=False)\n",
    "\n",
    "    # Standard t-test condition test\n",
    "    if p_value1 > 0.05:\n",
    "        result1 = \"Fail to reject Null Hypothesis\"\n",
    "    else:\n",
    "        result1 = \"Reject Null Hypothesis\"\n",
    "\n",
    "    # Welch t-test condition test\n",
    "    if p_value2 > 0.05:\n",
    "        result2 = \"Fail to reject Null Hypothesis\"\n",
    "    else:\n",
    "        result2 = \"Reject Null Hypothesis\"\n",
    "    \n",
    "    # Results for standard t-test\n",
    "    print(\"Standard t-test:\")\n",
    "    print(\"Result:\", result1)\n",
    "    print(\"t-statistic\", round(t_statistic1, 7))\n",
    "    print(\"p-value:\", round(p_value1, 7))\n",
    "\n",
    "    # Results for Welch t-test\n",
    "    print(\"\\nWelch t-test:\")\n",
    "    print(\"Result:\", result2)\n",
    "    print(\"t-statistic\", round(t_statistic2, 7))\n",
    "    print(\"p-value:\", round(p_value2, 7))"
   ]
  },
  {
   "cell_type": "markdown",
   "metadata": {},
   "source": [
    "### **n1, n2 < 30**"
   ]
  },
  {
   "cell_type": "code",
   "execution_count": 46,
   "metadata": {},
   "outputs": [
    {
     "name": "stdout",
     "output_type": "stream",
     "text": [
      "Standard t-test:\n",
      "Result: Fail to reject Null Hypothesis\n",
      "t-statistic 0.7428828\n",
      "p-value: 0.4611731\n",
      "\n",
      "Welch t-test:\n",
      "Result: Fail to reject Null Hypothesis\n",
      "t-statistic 0.7428828\n",
      "p-value: 0.4611791\n"
     ]
    }
   ],
   "source": [
    "# n1 = n2, σ1 = σ2\n",
    "\n",
    "welcht_test(scale1=9, size1=25, scale2=9, size2=25)"
   ]
  },
  {
   "cell_type": "code",
   "execution_count": 41,
   "metadata": {},
   "outputs": [
    {
     "name": "stdout",
     "output_type": "stream",
     "text": [
      "Standard t-test:\n",
      "Result: Fail to reject Null Hypothesis\n",
      "t-statistic 0.7421671\n",
      "p-value: 0.4616025\n",
      "\n",
      "Welch t-test:\n",
      "Result: Fail to reject Null Hypothesis\n",
      "t-statistic 0.7421671\n",
      "p-value: 0.461965\n"
     ]
    }
   ],
   "source": [
    "# n1 = n2, σ1 >  σ2\n",
    "\n",
    "welcht_test(scale1=12, size1=25, scale2=9, size2=25)"
   ]
  },
  {
   "cell_type": "code",
   "execution_count": 42,
   "metadata": {},
   "outputs": [
    {
     "name": "stdout",
     "output_type": "stream",
     "text": [
      "Standard t-test:\n",
      "Result: Fail to reject Null Hypothesis\n",
      "t-statistic 0.5556667\n",
      "p-value: 0.5808217\n",
      "\n",
      "Welch t-test:\n",
      "Result: Fail to reject Null Hypothesis\n",
      "t-statistic 0.5662119\n",
      "p-value: 0.5737104\n"
     ]
    }
   ],
   "source": [
    "welcht_test(scale1=12, size1=29, scale2=9, size2=25)"
   ]
  },
  {
   "cell_type": "markdown",
   "metadata": {},
   "source": [
    "### **n1, n2 > 200**"
   ]
  },
  {
   "cell_type": "code",
   "execution_count": 43,
   "metadata": {},
   "outputs": [
    {
     "name": "stdout",
     "output_type": "stream",
     "text": [
      "Standard t-test:\n",
      "Result: Fail to reject Null Hypothesis\n",
      "t-statistic 1.5327043\n",
      "p-value: 0.1260707\n",
      "\n",
      "Welch t-test:\n",
      "Result: Fail to reject Null Hypothesis\n",
      "t-statistic 1.5327043\n",
      "p-value: 0.1260756\n"
     ]
    }
   ],
   "source": [
    "# n1 = n2, σ1 = σ2\n",
    "\n",
    "welcht_test(scale1=9, size1=220, scale2=9, size2=220)"
   ]
  },
  {
   "cell_type": "code",
   "execution_count": 44,
   "metadata": {},
   "outputs": [
    {
     "name": "stdout",
     "output_type": "stream",
     "text": [
      "Standard t-test:\n",
      "Result: Fail to reject Null Hypothesis\n",
      "t-statistic 1.3344143\n",
      "p-value: 0.1827614\n",
      "\n",
      "Welch t-test:\n",
      "Result: Fail to reject Null Hypothesis\n",
      "t-statistic 1.3344143\n",
      "p-value: 0.1828484\n"
     ]
    }
   ],
   "source": [
    "# n1 = n2, σ1 >  σ2\n",
    "\n",
    "welcht_test(scale1=12, size1=220, scale2=9, size2=220)"
   ]
  },
  {
   "cell_type": "code",
   "execution_count": 45,
   "metadata": {},
   "outputs": [
    {
     "name": "stdout",
     "output_type": "stream",
     "text": [
      "Standard t-test:\n",
      "Result: Fail to reject Null Hypothesis\n",
      "t-statistic 0.8492324\n",
      "p-value: 0.3961684\n",
      "\n",
      "Welch t-test:\n",
      "Result: Fail to reject Null Hypothesis\n",
      "t-statistic 0.8757258\n",
      "p-value: 0.3816145\n"
     ]
    }
   ],
   "source": [
    "# n1 > n2, σ1 >  σ2\n",
    "\n",
    "welcht_test(scale1=12, size1=270, scale2=9, size2=220)"
   ]
  }
 ],
 "metadata": {
  "kernelspec": {
   "display_name": "Python 3",
   "language": "python",
   "name": "python3"
  },
  "language_info": {
   "codemirror_mode": {
    "name": "ipython",
    "version": 3
   },
   "file_extension": ".py",
   "mimetype": "text/x-python",
   "name": "python",
   "nbconvert_exporter": "python",
   "pygments_lexer": "ipython3",
   "version": "3.11.9"
  }
 },
 "nbformat": 4,
 "nbformat_minor": 2
}
